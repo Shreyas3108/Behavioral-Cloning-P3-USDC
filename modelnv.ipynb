{
 "cells": [
  {
   "cell_type": "code",
   "execution_count": 1,
   "metadata": {},
   "outputs": [
    {
     "name": "stderr",
     "output_type": "stream",
     "text": [
      "Using TensorFlow backend.\n"
     ]
    }
   ],
   "source": [
    "import pandas as pd\n",
    "from matplotlib import pyplot as plt\n",
    "import cv2\n",
    "import numpy as np\n",
    "from sklearn.model_selection import train_test_split\n",
    "from sklearn.utils import shuffle\n",
    "from keras.models import model_from_json\n",
    "from keras.models import Sequential\n",
    "from keras.layers import Input, Dense, Dropout, Activation, Flatten, BatchNormalization, Convolution2D, MaxPooling2D , ELU\n",
    "from keras.layers.core import Lambda\n",
    "from keras.utils import np_utils\n",
    "from keras.regularizers import l2\n",
    "from keras.preprocessing import image\n",
    "from keras.optimizers import Adam\n",
    "from keras import backend as K"
   ]
  },
  {
   "cell_type": "code",
   "execution_count": 2,
   "metadata": {
    "collapsed": true
   },
   "outputs": [],
   "source": [
    "def duplicate_data(data):\n",
    "    '''\n",
    "    input:\n",
    "        data in dataframe format\n",
    "    output:\n",
    "        concatenated dataframe with flipping angles. \n",
    "    '''\n",
    "    data_left = data[['left','steering']]\n",
    "    data_left['steering'] = data_left['steering'] + 0.3\n",
    "    data_left['image'] = data_left['left']\n",
    "    data_left = data_left.drop('left',axis = 1)\n",
    "    data_right = data[['right','steering']]\n",
    "    data_right['steering'] = data_right['steering'] - 0.3\n",
    "    data_right['image'] = data_right['right']\n",
    "    data_right = data_right.drop('right',axis = 1)\n",
    "    data_center = data[['center','steering']]\n",
    "    data_center['image'] = data_center['center']\n",
    "    data_center = data_center.drop('center',axis = 1)\n",
    "    combined_data = pd.concat([data_center, data_left, data_right])\n",
    "    flipped_data = combined_data.copy()\n",
    "    combined_data['flip'] = False\n",
    "    flipped_data['flip'] = True\n",
    "    flipped_data['steering'] = flipped_data['steering'] * -1\n",
    "    final_data = pd.concat([combined_data, flipped_data, combined_data.copy(), flipped_data.copy()])\n",
    "    return final_data"
   ]
  },
  {
   "cell_type": "code",
   "execution_count": 3,
   "metadata": {
    "collapsed": true
   },
   "outputs": [],
   "source": [
    "def crop_image(image, top=70, bottom=135):\n",
    "    return image[top:bottom]"
   ]
  },
  {
   "cell_type": "code",
   "execution_count": 4,
   "metadata": {
    "collapsed": true
   },
   "outputs": [],
   "source": [
    "def resize_image(image):\n",
    "    return cv2.resize(image,(200,66), interpolation= cv2.INTER_AREA)"
   ]
  },
  {
   "cell_type": "code",
   "execution_count": 5,
   "metadata": {
    "collapsed": true
   },
   "outputs": [],
   "source": [
    "def brightness(image,angle):\n",
    "    choice = np.random.randint(2)\n",
    "    if choice == 1:\n",
    "        c = np.random.uniform(0.3,1.2)\n",
    "        hsv = cv2.cvtColor(image , cv2.COLOR_RGB2HSV)\n",
    "        hsv[:,:,2] = hsv[:,:,2] * c\n",
    "        brightness = cv2.cvtColor(hsv, cv2.COLOR_HSV2RGB)\n",
    "        image = brightness\n",
    "        return image , angle\n",
    "    else:\n",
    "        return image,angle"
   ]
  },
  {
   "cell_type": "code",
   "execution_count": 6,
   "metadata": {
    "collapsed": true
   },
   "outputs": [],
   "source": [
    "def augmentation(entry):\n",
    "    data_directory = 'data/'\n",
    "    image_flip, angle = entry\n",
    "    image = plt.imread(data_directory+image_flip[1]['image'].strip())\n",
    "    angle = angle[1]['steering']\n",
    "    image = image[70:135]\n",
    "    image = cv2.resize(image,(200,66), interpolation= cv2.INTER_AREA)\n",
    "    image, angle = brightness(image, angle)\n",
    "    flip = image_flip[1]['flip']\n",
    "    if flip:\n",
    "        image = image[:,:,::-1]\n",
    "    return image, angle"
   ]
  },
  {
   "cell_type": "code",
   "execution_count": 7,
   "metadata": {
    "collapsed": true
   },
   "outputs": [],
   "source": [
    "def generator(X, y, batch_size=128):\n",
    "    N = X.shape[0]\n",
    "    number_of_batches = int(np.ceil(N / batch_size))\n",
    "    while True:\n",
    "        X, y  = shuffle(X, y)\n",
    "        for i in range(number_of_batches):\n",
    "            start_index = i*batch_size\n",
    "            end_index = (i+1)*(batch_size)\n",
    "            if end_index <= N:\n",
    "                X_batch = X[start_index:end_index]\n",
    "                y_batch = y[start_index:end_index]\n",
    "            else:\n",
    "                X_batch = X[start_index:]\n",
    "                y_batch = y[start_index:]\n",
    "            X_batch, y_batch = X_batch.iterrows(), y_batch.iterrows()\n",
    "            X_image_batch, y_batch = zip(*map(augmentation, zip(X_batch, y_batch)))\n",
    "            X_image_batch = np.asarray(X_image_batch)\n",
    "            y_batch = np.asarray(y_batch)\n",
    "            yield X_image_batch, y_batch"
   ]
  },
  {
   "cell_type": "code",
   "execution_count": 8,
   "metadata": {
    "collapsed": true
   },
   "outputs": [],
   "source": [
    "def model_nvidia():\n",
    "    model = Sequential()\n",
    "    #model.add(Cropping2D(cropping=((70, 25), (0, 0)), input_shape=(160, 320, 3)))\n",
    "    model.add(Lambda(lambda x:(x/127.5 - 1.), input_shape=(66, 200, 3)))\n",
    "    model.add(Convolution2D(24, 5, 5, subsample=(2, 2), border_mode=\"valid\"))\n",
    "    model.add(ELU())\n",
    "    model.add(Convolution2D(36, 5, 5, subsample=(2, 2), border_mode=\"valid\"))\n",
    "    model.add(ELU())\n",
    "    model.add(Convolution2D(48, 5, 5, subsample=(2, 2), border_mode=\"valid\"))\n",
    "    model.add(ELU())\n",
    "    model.add(Convolution2D(64, 3, 3, border_mode=\"valid\"))\n",
    "    model.add(ELU())\n",
    "    model.add(Convolution2D(64, 3, 3, border_mode=\"valid\"))\n",
    "    model.add(Dropout(0.2))\n",
    "    model.add(ELU())\n",
    "    model.add(Flatten())\n",
    "    model.add(Dense(100))\n",
    "    model.add(ELU())\n",
    "    model.add(Dense(50))\n",
    "    model.add(ELU())\n",
    "    model.add(Dense(10))\n",
    "    model.add(ELU())\n",
    "    model.add(Dense(1, trainable=False))\n",
    "    # print model summary\n",
    "    model.summary()\n",
    "    model.compile(optimizer='adam', loss='mse')\n",
    "    return model"
   ]
  },
  {
   "cell_type": "code",
   "execution_count": 9,
   "metadata": {},
   "outputs": [
    {
     "name": "stderr",
     "output_type": "stream",
     "text": [
      "C:\\Users\\shrey\\AppData\\Local\\conda\\conda\\envs\\carnd-term1\\lib\\site-packages\\ipykernel_launcher.py:9: SettingWithCopyWarning: \n",
      "A value is trying to be set on a copy of a slice from a DataFrame.\n",
      "Try using .loc[row_indexer,col_indexer] = value instead\n",
      "\n",
      "See the caveats in the documentation: http://pandas.pydata.org/pandas-docs/stable/indexing.html#indexing-view-versus-copy\n",
      "  if __name__ == '__main__':\n",
      "C:\\Users\\shrey\\AppData\\Local\\conda\\conda\\envs\\carnd-term1\\lib\\site-packages\\ipykernel_launcher.py:10: SettingWithCopyWarning: \n",
      "A value is trying to be set on a copy of a slice from a DataFrame.\n",
      "Try using .loc[row_indexer,col_indexer] = value instead\n",
      "\n",
      "See the caveats in the documentation: http://pandas.pydata.org/pandas-docs/stable/indexing.html#indexing-view-versus-copy\n",
      "  # Remove the CWD from sys.path while we load stuff.\n",
      "C:\\Users\\shrey\\AppData\\Local\\conda\\conda\\envs\\carnd-term1\\lib\\site-packages\\ipykernel_launcher.py:13: SettingWithCopyWarning: \n",
      "A value is trying to be set on a copy of a slice from a DataFrame.\n",
      "Try using .loc[row_indexer,col_indexer] = value instead\n",
      "\n",
      "See the caveats in the documentation: http://pandas.pydata.org/pandas-docs/stable/indexing.html#indexing-view-versus-copy\n",
      "  del sys.path[0]\n",
      "C:\\Users\\shrey\\AppData\\Local\\conda\\conda\\envs\\carnd-term1\\lib\\site-packages\\ipykernel_launcher.py:14: SettingWithCopyWarning: \n",
      "A value is trying to be set on a copy of a slice from a DataFrame.\n",
      "Try using .loc[row_indexer,col_indexer] = value instead\n",
      "\n",
      "See the caveats in the documentation: http://pandas.pydata.org/pandas-docs/stable/indexing.html#indexing-view-versus-copy\n",
      "  \n",
      "C:\\Users\\shrey\\AppData\\Local\\conda\\conda\\envs\\carnd-term1\\lib\\site-packages\\ipykernel_launcher.py:17: SettingWithCopyWarning: \n",
      "A value is trying to be set on a copy of a slice from a DataFrame.\n",
      "Try using .loc[row_indexer,col_indexer] = value instead\n",
      "\n",
      "See the caveats in the documentation: http://pandas.pydata.org/pandas-docs/stable/indexing.html#indexing-view-versus-copy\n"
     ]
    }
   ],
   "source": [
    "data = pd.read_csv('data/driving_log.csv')\n",
    "data = duplicate_data(data)"
   ]
  },
  {
   "cell_type": "code",
   "execution_count": 10,
   "metadata": {},
   "outputs": [
    {
     "name": "stdout",
     "output_type": "stream",
     "text": [
      "____________________________________________________________________________________________________\n",
      "Layer (type)                     Output Shape          Param #     Connected to                     \n",
      "====================================================================================================\n",
      "lambda_1 (Lambda)                (None, 66, 200, 3)    0           lambda_input_1[0][0]             \n",
      "____________________________________________________________________________________________________\n",
      "convolution2d_1 (Convolution2D)  (None, 31, 98, 24)    1824        lambda_1[0][0]                   \n",
      "____________________________________________________________________________________________________\n",
      "elu_1 (ELU)                      (None, 31, 98, 24)    0           convolution2d_1[0][0]            \n",
      "____________________________________________________________________________________________________\n",
      "convolution2d_2 (Convolution2D)  (None, 14, 47, 36)    21636       elu_1[0][0]                      \n",
      "____________________________________________________________________________________________________\n",
      "elu_2 (ELU)                      (None, 14, 47, 36)    0           convolution2d_2[0][0]            \n",
      "____________________________________________________________________________________________________\n",
      "convolution2d_3 (Convolution2D)  (None, 5, 22, 48)     43248       elu_2[0][0]                      \n",
      "____________________________________________________________________________________________________\n",
      "elu_3 (ELU)                      (None, 5, 22, 48)     0           convolution2d_3[0][0]            \n",
      "____________________________________________________________________________________________________\n",
      "convolution2d_4 (Convolution2D)  (None, 3, 20, 64)     27712       elu_3[0][0]                      \n",
      "____________________________________________________________________________________________________\n",
      "elu_4 (ELU)                      (None, 3, 20, 64)     0           convolution2d_4[0][0]            \n",
      "____________________________________________________________________________________________________\n",
      "convolution2d_5 (Convolution2D)  (None, 1, 18, 64)     36928       elu_4[0][0]                      \n",
      "____________________________________________________________________________________________________\n",
      "dropout_1 (Dropout)              (None, 1, 18, 64)     0           convolution2d_5[0][0]            \n",
      "____________________________________________________________________________________________________\n",
      "elu_5 (ELU)                      (None, 1, 18, 64)     0           dropout_1[0][0]                  \n",
      "____________________________________________________________________________________________________\n",
      "flatten_1 (Flatten)              (None, 1152)          0           elu_5[0][0]                      \n",
      "____________________________________________________________________________________________________\n",
      "dense_1 (Dense)                  (None, 100)           115300      flatten_1[0][0]                  \n",
      "____________________________________________________________________________________________________\n",
      "elu_6 (ELU)                      (None, 100)           0           dense_1[0][0]                    \n",
      "____________________________________________________________________________________________________\n",
      "dense_2 (Dense)                  (None, 50)            5050        elu_6[0][0]                      \n",
      "____________________________________________________________________________________________________\n",
      "elu_7 (ELU)                      (None, 50)            0           dense_2[0][0]                    \n",
      "____________________________________________________________________________________________________\n",
      "dense_3 (Dense)                  (None, 10)            510         elu_7[0][0]                      \n",
      "____________________________________________________________________________________________________\n",
      "elu_8 (ELU)                      (None, 10)            0           dense_3[0][0]                    \n",
      "____________________________________________________________________________________________________\n",
      "dense_4 (Dense)                  (None, 1)             11          elu_8[0][0]                      \n",
      "====================================================================================================\n",
      "Total params: 252,219\n",
      "Trainable params: 252,208\n",
      "Non-trainable params: 11\n",
      "____________________________________________________________________________________________________\n"
     ]
    }
   ],
   "source": [
    "images = data[['image', 'flip']]\n",
    "angles = data[['steering']]\n",
    "X_train, X_valid, y_train, y_valid = train_test_split(images, angles, test_size=0.1)\n",
    "train_gen = generator(X_train, y_train)\n",
    "valid_gen = generator(X_valid, y_valid)\n",
    "model = model_nvidia()"
   ]
  },
  {
   "cell_type": "code",
   "execution_count": 11,
   "metadata": {},
   "outputs": [
    {
     "name": "stdout",
     "output_type": "stream",
     "text": [
      "Epoch 1/3\n",
      "260364/260364 [==============================] - 678s - loss: 0.0355 - val_loss: 0.0279\n",
      "Epoch 2/3\n",
      "260364/260364 [==============================] - 675s - loss: 0.0250 - val_loss: 0.0233\n",
      "Epoch 3/3\n",
      "260364/260364 [==============================] - 674s - loss: 0.0191 - val_loss: 0.0168\n"
     ]
    },
    {
     "data": {
      "text/plain": [
       "<keras.callbacks.History at 0x187163abac8>"
      ]
     },
     "execution_count": 11,
     "metadata": {},
     "output_type": "execute_result"
    }
   ],
   "source": [
    "model.fit_generator(train_gen, len(X_train)*3, nb_epoch=3, validation_data=valid_gen, nb_val_samples=len(X_valid)*3)"
   ]
  },
  {
   "cell_type": "code",
   "execution_count": 12,
   "metadata": {
    "collapsed": true
   },
   "outputs": [],
   "source": [
    "model.save('modelnv.h5')"
   ]
  },
  {
   "cell_type": "code",
   "execution_count": null,
   "metadata": {
    "collapsed": true
   },
   "outputs": [],
   "source": []
  }
 ],
 "metadata": {
  "kernelspec": {
   "display_name": "Python 3",
   "language": "python",
   "name": "python3"
  },
  "language_info": {
   "codemirror_mode": {
    "name": "ipython",
    "version": 3
   },
   "file_extension": ".py",
   "mimetype": "text/x-python",
   "name": "python",
   "nbconvert_exporter": "python",
   "pygments_lexer": "ipython3",
   "version": "3.5.2"
  },
  "widgets": {
   "state": {},
   "version": "1.1.2"
  }
 },
 "nbformat": 4,
 "nbformat_minor": 2
}
